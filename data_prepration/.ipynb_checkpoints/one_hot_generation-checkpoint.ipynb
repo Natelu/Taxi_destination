{
 "cells": [
  {
   "cell_type": "code",
   "execution_count": 37,
   "metadata": {},
   "outputs": [
    {
     "name": "stdout",
     "output_type": "stream",
     "text": [
      "logs***corners generating...\n",
      "logs***corners generating Done...\n",
      "{'min_lat': 40.000041, 'max_lat': 41.99994, 'min_lon': -8.897364, 'max_lon': -8.000001}\n",
      "Wall time: 7min 47s\n"
     ]
    }
   ],
   "source": [
    "%%time\n",
    "import json\n",
    "import numpy\n",
    "import pandas as pd\n",
    "\n",
    "\n",
    "class DataPreparation:\n",
    "    def __init__(self, data_file, grid_size=1e4):\n",
    "        self.Data = pd.read_csv(data_file)\n",
    "        self.path_diff = []\n",
    "        self.lat_set = set()\n",
    "        self.lon_set = set()\n",
    "        \n",
    "    def get_pos_set(self):\n",
    "        iterrows = self.Data[['TRIP_ID'],['POLYLINE']]\n",
    "        for item in iterrows:\n",
    "            pos_lis = item['POLYLINE'] #'POLYLINE'\n",
    "            pos_lis = json.loads(pos_lis)\n",
    "            for pos in pos_lis:\n",
    "                if int(pos[0])!= -8 or (int(pos[1])>=42 or int(pos[1])<40):\n",
    "                    self.path_diff.append(item)\n",
    "                    self.Data.drop(index=item['TRIP_ID'], inplace=True)\n",
    "                    break\n",
    "                self.lat_set.add(pos[1])\n",
    "                self.lon_set.add(pos[0])\n",
    "\n",
    "    def get_max_or_min(self, data_set, isMax=True):\n",
    "            return max(data_set) if isMax else min(data_set)\n",
    "\n",
    "    def get_corner(self):\n",
    "        print(\"logs***{message}...\".format(message=\"corners generating\"))\n",
    "        self.get_pos_set()\n",
    "        min_lat = self.get_max_or_min(data_set=self.lat_set, isMax=False)\n",
    "        max_lat = self.get_max_or_min(data_set=self.lat_set)\n",
    "        min_lon = self.get_max_or_min(data_set=self.lon_set, isMax=False)\n",
    "        max_lon = self.get_max_or_min(data_set=self.lon_set)\n",
    "        print(\"logs***{message}...\".format(message=\"corners generating Done\"))\n",
    "        return {\"min_lat\": min_lat, \"max_lat\": max_lat, \"min_lon\": min_lon, \"max_lon\": max_lon}\n",
    "\n",
    "\n",
    "DataFile = '../data/train.csv'\n",
    "data_prase = DataPreparation(DataFile, grid_size=1e4)\n",
    "corners = data_prase.get_corner()\n",
    "print(corners)"
   ]
  },
  {
   "cell_type": "code",
   "execution_count": 38,
   "metadata": {},
   "outputs": [
    {
     "name": "stdout",
     "output_type": "stream",
     "text": [
      "范围较大的轨迹数量： 915\n",
      "过滤后的轨迹数量： 1709755\n"
     ]
    }
   ],
   "source": [
    "print('范围较大的轨迹数量：', len(data_prase.path_diff))\n",
    "print(\"过滤后的轨迹数量：\", len(data_prase.Data))\n",
    "data_prase.Data.to_csv('../data/train_after_filter.csv', index=False)"
   ]
  },
  {
   "cell_type": "code",
   "execution_count": 1,
   "metadata": {},
   "outputs": [],
   "source": [
    "import pandas as pd\n",
    "data = pd.read_csv('../data/train_after_filter.csv')\n",
    "fileObject = open('start_end_positions.txt', 'w')  \n",
    "for ip in ipTable:  \n",
    "    fileObject.write(ip)  \n",
    "    fileObject.write('\\n')  \n",
    "fileObject.close()  "
   ]
  },
  {
   "cell_type": "code",
   "execution_count": 2,
   "metadata": {},
   "outputs": [
    {
     "name": "stdout",
     "output_type": "stream",
     "text": [
      "Wall time: 45 s\n"
     ]
    }
   ],
   "source": [
    "%%time\n",
    "# 提取起点-终点列表\n",
    "import json\n",
    "result = []\n",
    "pos = data['POLYLINE']\n",
    "\n",
    "def add_pos_set(item):\n",
    "    global result\n",
    "    tmp = json.loads(item)\n",
    "    if len(tmp) == 0:\n",
    "        return \n",
    "    start_tmp, end_tmp = tmp[0], tmp[-1]\n",
    "    result.append(start_tmp)\n",
    "    result.append(end_tmp)\n",
    "\n",
    "pos.apply(lambda x : add_pos_set(x))"
   ]
  },
  {
   "cell_type": "code",
   "execution_count": 4,
   "metadata": {},
   "outputs": [
    {
     "name": "stdout",
     "output_type": "stream",
     "text": [
      "[1, 2, 3]\n"
     ]
    }
   ],
   "source": [
    "str_result = str(result)\n",
    "print(str_result)"
   ]
  },
  {
   "cell_type": "code",
   "execution_count": 24,
   "metadata": {},
   "outputs": [
    {
     "name": "stdout",
     "output_type": "stream",
     "text": [
      "[[-8.897364, 40.000041], [-8.000001, 40.000041], [-8.897364, 41.99994], [-8.000001, 41.99994]]\n"
     ]
    }
   ],
   "source": [
    "dic = {'min_lat': 40.000041, 'max_lat': 41.99994, 'min_lon': -8.897364, 'max_lon': -8.000001}\n",
    "lats = [40.000041,41.99994]\n",
    "lons = [-8.897364,-8.000001]\n",
    "Global_Area = []\n",
    "for i in lats:\n",
    "    for j in lons:\n",
    "        tmp = [j, i]\n",
    "        Global_Area.append(tmp)\n",
    "print(Global_Area)"
   ]
  },
  {
   "cell_type": "code",
   "execution_count": null,
   "metadata": {},
   "outputs": [],
   "source": []
  }
 ],
 "metadata": {
  "kernelspec": {
   "display_name": "Python 3",
   "language": "python",
   "name": "python3"
  },
  "language_info": {
   "codemirror_mode": {
    "name": "ipython",
    "version": 3
   },
   "file_extension": ".py",
   "mimetype": "text/x-python",
   "name": "python",
   "nbconvert_exporter": "python",
   "pygments_lexer": "ipython3",
   "version": "3.6.4"
  }
 },
 "nbformat": 4,
 "nbformat_minor": 2
}
