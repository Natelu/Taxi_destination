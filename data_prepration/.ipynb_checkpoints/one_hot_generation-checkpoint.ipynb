{
 "cells": [
  {
   "cell_type": "code",
   "execution_count": 19,
   "metadata": {},
   "outputs": [
    {
     "name": "stdout",
     "output_type": "stream",
     "text": [
      "logs***corners generating...\n",
      "logs***corners generating Done...\n",
      "{'min_lat': 40.000041, 'max_lat': 41.99994, 'min_lon': -8.897364, 'max_lon': -8.000001}\n",
      "CPU times: user 1min 59s, sys: 4.53 s, total: 2min 4s\n",
      "Wall time: 2min 6s\n"
     ]
    }
   ],
   "source": [
    "%%time\n",
    "import json\n",
    "import numpy\n",
    "import pandas as pd\n",
    "\n",
    "\n",
    "class DataPreparation:\n",
    "    def __init__(self, data_file, grid_size=1e4):\n",
    "        self.Data = pd.read_csv(data_file)\n",
    "        self.path_diff = []\n",
    "        self.lat_set = set()\n",
    "        self.lon_set = set()\n",
    "        \n",
    "    def get_pos_set(self):\n",
    "        xys = self.Data['POLYLINE']\n",
    "        for item in xys:\n",
    "            item = json.loads(item)\n",
    "            for pos in item:\n",
    "                if int(pos[0])!= -8 or (int(pos[1])>=42 or int(pos[1])<40):\n",
    "                    self.path_diff.append(item)\n",
    "                    break\n",
    "                self.lat_set.add(pos[1])\n",
    "                self.lon_set.add(pos[0])\n",
    "\n",
    "    def get_max_or_min(self, data_set, isMax=True):\n",
    "            return max(data_set) if isMax else min(data_set)\n",
    "\n",
    "    def get_corner(self):\n",
    "        print(\"logs***{message}...\".format(message=\"corners generating\"))\n",
    "        self.get_pos_set()\n",
    "        min_lat = self.get_max_or_min(data_set=self.lat_set, isMax=False)\n",
    "        max_lat = self.get_max_or_min(data_set=self.lat_set)\n",
    "        min_lon = self.get_max_or_min(data_set=self.lon_set, isMax=False)\n",
    "        max_lon = self.get_max_or_min(data_set=self.lon_set)\n",
    "        print(\"logs***{message}...\".format(message=\"corners generating Done\"))\n",
    "        return {\"min_lat\": min_lat, \"max_lat\": max_lat, \"min_lon\": min_lon, \"max_lon\": max_lon}\n",
    "\n",
    "\n",
    "DataFile = '~/Desktop/train.csv'\n",
    "data_prase = DataPreparation(DataFile, grid_size=1e4)\n",
    "corners = data_prase.get_corner()\n",
    "print(corners)"
   ]
  },
  {
   "cell_type": "code",
   "execution_count": 21,
   "metadata": {},
   "outputs": [
    {
     "name": "stdout",
     "output_type": "stream",
     "text": [
      "915\n"
     ]
    },
    {
     "ename": "NameError",
     "evalue": "name 'data_psdfsffrase' is not defined",
     "output_type": "error",
     "traceback": [
      "\u001b[0;31m---------------------------------------------------------------------------\u001b[0m",
      "\u001b[0;31mNameError\u001b[0m                                 Traceback (most recent call last)",
      "\u001b[0;32m<ipython-input-21-5a3dfc9b9af1>\u001b[0m in \u001b[0;36m<module>\u001b[0;34m()\u001b[0m\n\u001b[1;32m      1\u001b[0m \u001b[0mprint\u001b[0m\u001b[0;34m(\u001b[0m\u001b[0mlen\u001b[0m\u001b[0;34m(\u001b[0m\u001b[0mdata_prase\u001b[0m\u001b[0;34m.\u001b[0m\u001b[0mpath_diff\u001b[0m\u001b[0;34m)\u001b[0m\u001b[0;34m)\u001b[0m\u001b[0;34m\u001b[0m\u001b[0m\n\u001b[0;32m----> 2\u001b[0;31m \u001b[0;32mfor\u001b[0m \u001b[0mitem\u001b[0m \u001b[0;32min\u001b[0m \u001b[0mdata_psdfsffrase\u001b[0m\u001b[0;34m.\u001b[0m\u001b[0mpath_diff\u001b[0m\u001b[0;34m:\u001b[0m\u001b[0;34m\u001b[0m\u001b[0m\n\u001b[0m\u001b[1;32m      3\u001b[0m     \u001b[0mprint\u001b[0m\u001b[0;34m(\u001b[0m\u001b[0mitem\u001b[0m\u001b[0;34m)\u001b[0m\u001b[0;34m\u001b[0m\u001b[0m\n\u001b[1;32m      4\u001b[0m     \u001b[0mprint\u001b[0m\u001b[0;34m(\u001b[0m\u001b[0;34m'************'\u001b[0m\u001b[0;34m)\u001b[0m\u001b[0;34m\u001b[0m\u001b[0m\n",
      "\u001b[0;31mNameError\u001b[0m: name 'data_psdfsffrase' is not defined"
     ]
    }
   ],
   "source": [
    "print(len(data_prase.path_diff))\n",
    "for item in data_prase.path_diff:\n",
    "    print(item)\n",
    "    print('************')"
   ]
  },
  {
   "cell_type": "code",
   "execution_count": null,
   "metadata": {},
   "outputs": [],
   "source": []
  }
 ],
 "metadata": {
  "kernelspec": {
   "display_name": "Python 3",
   "language": "python",
   "name": "python3"
  },
  "language_info": {
   "codemirror_mode": {
    "name": "ipython",
    "version": 3
   },
   "file_extension": ".py",
   "mimetype": "text/x-python",
   "name": "python",
   "nbconvert_exporter": "python",
   "pygments_lexer": "ipython3",
   "version": "3.7.0"
  }
 },
 "nbformat": 4,
 "nbformat_minor": 2
}
