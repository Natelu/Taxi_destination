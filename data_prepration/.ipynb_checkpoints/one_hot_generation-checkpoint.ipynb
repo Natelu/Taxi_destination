{
 "cells": [
  {
   "cell_type": "code",
   "execution_count": 3,
   "metadata": {},
   "outputs": [
    {
     "name": "stdout",
     "output_type": "stream",
     "text": [
      "logs***corners generating...\n",
      "5620\n",
      "7385\n",
      "logs***corners generating Done...\n",
      "{'min_lat': 41.062563, 'max_lat': 41.562351, 'min_lon': -8.729766, 'max_lon': -7.542072}\n"
     ]
    }
   ],
   "source": [
    "import json\n",
    "import numpy\n",
    "import pandas as pd\n",
    "\n",
    "\n",
    "class DataPreparation:\n",
    "    def __init__(self, data_file, grid_size=1e4):\n",
    "        self.Data = pd.read_csv(data_file)\n",
    "\n",
    "    def get_pos_set(self):\n",
    "        xys = self.Data['POLYLINE']\n",
    "        lat_set = set()\n",
    "        lon_set = set()\n",
    "        for item in xys:\n",
    "            item = json.loads(item)\n",
    "            for pos in item:\n",
    "                lat_set.add(pos[1])\n",
    "                lon_set.add(pos[0])\n",
    "#         print(len(lat_set))  # 218671\n",
    "#         print(len(lon_set))  # 162051\n",
    "        return lat_set, lon_set\n",
    "\n",
    "    def get_max_or_min(self, data_set, isMax=True):\n",
    "            return max(data_set) if isMax else min(data_set)\n",
    "\n",
    "    def get_corner(self):\n",
    "        print(\"logs***{message}...\".format(message=\"corners generating\"))\n",
    "        lat_set, lon_set = self.get_pos_set()\n",
    "        min_lat = self.get_max_or_min(data_set=lat_set, isMax=False)\n",
    "        max_lat = self.get_max_or_min(data_set=lat_set)\n",
    "        min_lon = self.get_max_or_min(data_set=lon_set, isMax=False)\n",
    "        max_lon = self.get_max_or_min(data_set=lon_set)\n",
    "        print(\"logs***{message}...\".format(message=\"corners generating Done\"))\n",
    "        return {\"min_lat\": min_lat, \"max_lat\": max_lat, \"min_lon\": min_lon, \"max_lon\": max_lon}\n",
    "\n",
    "\n",
    "DataFile = '../data/test.csv'\n",
    "data_prase = DataPreparation(DataFile, grid_size=1e4)\n",
    "corners = data_prase.get_corner()\n",
    "print(corners)\n",
    "# logs***corners generating...\n",
    "# 218671\n",
    "# 162051\n",
    "# logs***corners generating Done...\n",
    "# {'min_lat': 31.992111, 'max_lat': 51.037119, 'min_lon': -36.913779, 'max_lon': 52.900803}"
   ]
  },
  {
   "cell_type": "code",
   "execution_count": 2,
   "metadata": {},
   "outputs": [
    {
     "name": "stdout",
     "output_type": "stream",
     "text": [
      "0\n"
     ]
    }
   ],
   "source": [
    "test = set()\n",
    "for i in range(5):\n",
    "    test.add(i)\n",
    "print(min(test))"
   ]
  },
  {
   "cell_type": "code",
   "execution_count": null,
   "metadata": {},
   "outputs": [],
   "source": []
  }
 ],
 "metadata": {
  "kernelspec": {
   "display_name": "Python 3",
   "language": "python",
   "name": "python3"
  },
  "language_info": {
   "codemirror_mode": {
    "name": "ipython",
    "version": 3
   },
   "file_extension": ".py",
   "mimetype": "text/x-python",
   "name": "python",
   "nbconvert_exporter": "python",
   "pygments_lexer": "ipython3",
   "version": "3.6.4"
  }
 },
 "nbformat": 4,
 "nbformat_minor": 2
}
