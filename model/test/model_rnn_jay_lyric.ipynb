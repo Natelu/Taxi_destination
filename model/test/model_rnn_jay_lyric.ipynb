{
 "cells": [
  {
   "cell_type": "code",
   "execution_count": 11,
   "metadata": {},
   "outputs": [
    {
     "name": "stdout",
     "output_type": "stream",
     "text": [
      "歌曲名称：反方向的钟 搜索试听   所属专辑：Jay同名专辑   查看该专辑其它\n",
      "字典长度：2878\n",
      "[488, 1880, 1159, 1983, 2394, 2092, 1442, 1712, 1158, 2330, 2872, 1191, 203, 1660, 378, 2872, 2872, 2872, 1266, 279]\n"
     ]
    }
   ],
   "source": [
    "\n",
    "with open('jay_lyric.txt', 'r',encoding='gbk') as f:\n",
    "    corpus_chars = f.read()\n",
    "    corpus_chars = corpus_chars.replace('\\n', ' ').replace('\\r', ' ')\n",
    "    print(corpus_chars[:40])\n",
    "    # 字符转索引\n",
    "    idx_to_char = list(set(corpus_chars))\n",
    "    char_to_id = dict([char, i] for i, char in enumerate(idx_to_char))\n",
    "    vocsize = len(char_to_id)\n",
    "    print('字典长度：{}'.format(vocsize))\n",
    "\n",
    "corpus_indices = [char_to_id[char] for char in corpus_chars]\n",
    "print(corpus_indices[:20])"
   ]
  },
  {
   "cell_type": "code",
   "execution_count": 12,
   "metadata": {},
   "outputs": [],
   "source": [
    "# 时序数据采样\n",
    "from mxnet import nd\n",
    "# print(corpus_indices.shape)\n",
    "# corpus_indices = np.ndarray(corpus_indices)\n",
    "def data_iter_consective(corpus_indices, batch_size, num_steps, ctx=None):\n",
    "    corpus_indices = nd.array(corpus_indices)\n",
    "    data_len = len(corpus_indices)\n",
    "    batch_len = data_len //batch_size\n",
    "    indices = corpus_indices[0:batch_size*batch_len].reshape((batch_size, batch_len))\n",
    "    epoch_size = (batch_len - 1) // num_steps\n",
    "    for i in range(epoch_size):\n",
    "        i = i*num_steps\n",
    "        X = indices[:, i: i+num_steps]\n",
    "        Y = indices[:, i+1: i+num_steps+1]\n",
    "        yield i, X, Y\n",
    "# for e, X, Y in data_iter_consective(corpus_indices[0:40], batch_size=2, num_steps=6):\n",
    "#     print('e:', e, 'X:',X, '\\nY:', Y)\n"
   ]
  },
  {
   "cell_type": "code",
   "execution_count": 13,
   "metadata": {
    "scrolled": false
   },
   "outputs": [],
   "source": [
    "# model \n",
    "# corpus_indices, char_to_id, idx_to_char, vocsize\n",
    "import gluonbook as gb\n",
    "from mxnet import autograd, nd\n",
    "import math \n",
    "from mxnet.gluon import loss as gloss\n",
    "import time \n",
    "\n",
    "def to_onehot(X, size):\n",
    "    return [nd.one_hot(x, size) for x in X.T]\n",
    "\n",
    "### 初始化模型参数 \n",
    "num_inputs, num_hiddens, num_outputs = vocsize, 256, vocsize\n",
    "ctx = gb.try_gpu()\n",
    "def get_params():\n",
    "    def _one(shape):\n",
    "        return nd.random.normal(scale=0.01, shape=shape, ctx=ctx)\n",
    "    #隐藏层参数\n",
    "    W_xh = _one((num_inputs, num_hiddens))\n",
    "    W_hh = _one((num_hiddens, num_hiddens))\n",
    "    b_h = nd.zeros(num_hiddens, ctx=ctx)\n",
    "    #输出层参数\n",
    "    W_hq = _one((num_hiddens, num_outputs))\n",
    "    b_q = nd.zeros(num_outputs, ctx=ctx)\n",
    "    # 梯度\n",
    "    params = [W_xh, W_hh, b_h, W_hq, b_q]\n",
    "    for param in params:\n",
    "        param.attach_grad()\n",
    "    return params\n",
    "\n",
    "### 定义模型\n",
    "def init_rnn_state(batch_size, num_hiddens, ctx):\n",
    "    return nd.zeros(shape=(batch_size, num_hiddens), ctx=ctx)\n",
    "\n",
    "def rnn(inputs, state, params):\n",
    "    W_xh, W_hh, b_h, W_hq, b_q = params\n",
    "    H = state\n",
    "    outputs = []\n",
    "    for X in inputs:\n",
    "        H = nd.tanh(nd.dot(X, W_xh) + nd.dot(H, W_hh) + b_h)\n",
    "        Y = nd.dot(H, W_hq) + b_q\n",
    "        outputs.append(Y)\n",
    "    return outputs, (H,)\n",
    "\n",
    "def predict_rnn(prefix, num_chars, params, num_hiddens, vocsize, ctx, idx_to_char, char_to_id):\n",
    "    state = init_rnn_state(1, num_hiddens, ctx)\n",
    "    output = [char_to_id[prefix[0]]]\n",
    "    for t in range(num_chars + len(prefix) - 1):\n",
    "        X = to_onehot(nd.array([output[-1]], ctx=ctx), vocsize)\n",
    "        (Y, state) = rnn(X, state, params)\n",
    "        if t < len(prefix) - 1:\n",
    "            output.append(char_to_id[prefix[t+1]])\n",
    "        else:\n",
    "            output.append(Y[0].argmax(axis=1).asscalar())\n",
    "    return ''.join([idx_to_char[int(i)] for i in output])\n",
    "\n",
    "def grad_clip(params, theta, ctx):\n",
    "    norm = nd.array([0.0], ctx)\n",
    "    for param in params:\n",
    "        norm += (param.grad ** 2).sum()\n",
    "    norm = norm.sqrt().asscalar()\n",
    "    if norm > theta:\n",
    "        for param in params:\n",
    "            param[:] *= theta/norm\n",
    "    \n",
    "# predict_rnn('分开', 10, params, num_hiddens, vocsize, ctx, idx_to_char, char_to_id)\n",
    "\n",
    "def train_predict_rnn(num_hiddens, vocsize, ctx, corpus_indices, num_epochs, num_steps, lr, is_random_iter,\n",
    "                      clipping_threta, batch_size, pred_peroid, pred_len, prefixes):\n",
    "    data_iter_fn = data_iter_consective\n",
    "    params = get_params()\n",
    "    loss = gloss.SoftmaxCrossEntropyLoss()\n",
    "    print('start')\n",
    "    for epoch in range(num_epochs):\n",
    "        if not is_random_iter:\n",
    "            state = init_rnn_state(batch_size, num_hiddens, ctx)\n",
    "        loss_sum, start = 0.0, time.time()\n",
    "        data_iter = data_iter_fn(corpus_indices, batch_size, num_steps, ctx)\n",
    "        for t, (index, X, Y) in enumerate(data_iter):\n",
    "            if not is_random_iter:\n",
    "                for s in state:\n",
    "                    s.detach()\n",
    "            with autograd.record():\n",
    "                inputs = to_onehot(X, vocsize)\n",
    "#                 print(type(state))\n",
    "                outputs, (state,) = rnn(inputs, state, params)\n",
    "                outputs = nd.concat(*outputs, dim=0)\n",
    "                y = Y.T.reshape((-1,))\n",
    "#                 print(\"y\", type(y))\n",
    "#                 print(\"outputs\", type(outputs))\n",
    "                l = loss(outputs, y).mean()\n",
    "            l.backward()\n",
    "            grad_clip(params, clipping_threta, ctx)\n",
    "            gb.sgd(params, lr, 1)\n",
    "            loss_sum += l.asscalar()\n",
    "        print(epoch)\n",
    "        if (epoch + 1) % pred_period == 0:\n",
    "            print('epoch %d, perplexity %f, time %.2f sec' % (\n",
    "            epoch + 1, math.exp(loss_sum / (t + 1)), time.time() - start))\n",
    "            for prefix in prefixes:\n",
    "                print(' -', predict_rnn(prefix, pred_len, rnn, params, init_rnn_state,\n",
    "                num_hiddens, vocab_size, ctx, idx_to_char, char_to_idx))\n"
   ]
  },
  {
   "cell_type": "code",
   "execution_count": 39,
   "metadata": {},
   "outputs": [],
   "source": [
    "num_epochs, num_steps, batch_size, lr, clipping_theta = 200, 35, 32, 1e2, 1e-2\n",
    "pred_period, pred_len, prefixes = 50, 50, ['分开', '不分开']\n",
    "\n",
    "\n",
    "# train_predict_rnn(num_hiddens,vocsize, ctx, corpus_indices, num_epochs,\n",
    "#                     num_steps, lr, False, \n",
    "#                     clipping_theta, batch_size, pred_period, pred_len,\n",
    "#                     prefixes)\n"
   ]
  },
  {
   "cell_type": "code",
   "execution_count": 31,
   "metadata": {},
   "outputs": [
    {
     "name": "stdout",
     "output_type": "stream",
     "text": [
      "(1, 2, 256)\n",
      "(35, 2, 256) 1 (1, 2, 256)\n"
     ]
    },
    {
     "data": {
      "text/plain": [
       "'分开帖昏莊忆算纶燒饺倔狠'"
      ]
     },
     "execution_count": 31,
     "metadata": {},
     "output_type": "execute_result"
    }
   ],
   "source": [
    "# 基于gluon的rnn实现\n",
    "from mxnet.gluon import nn, rnn, loss as gloss\n",
    "num_hiddens = 256 \n",
    "rnn_layer = rnn.RNN(num_hiddens)\n",
    "rnn_layer.initialize()\n",
    "\n",
    "batch_size = 2\n",
    "state = rnn_layer.begin_state(batch_size=batch_size)\n",
    "print((state[0].shape))\n",
    "\n",
    "num_steps = 35\n",
    "X = nd.random.uniform(shape=(num_steps, batch_size, vocsize))\n",
    "Y , state_new = rnn_layer(X, state)\n",
    "print(Y.shape, len(state_new), state_new[0].shape)\n",
    "\n",
    "class RNNModel(nn.Block):\n",
    "    def __init__(self, rnn_layer, vocab_size, **kwargs):\n",
    "        super(RNNModel, self).__init__(**kwargs)\n",
    "        self.rnn = rnn_layer\n",
    "        self.vocab_size = vocab_size\n",
    "        self.dense = nn.Dense(vocab_size)\n",
    "    \n",
    "    def forward(self, inputs, state):\n",
    "        # 将输入转置成（num_steps, batch_size）后获取one-hot向量表示\n",
    "        X = nd.one_hot(inputs.T, self.vocab_size)\n",
    "        Y, state = self.rnn(X, state)\n",
    "        # 全连接层首先将Y的形状变为（num_steps*batch_size, num_hiddens)\n",
    "        # 它的输出将是（num_steps*batch_size, vocab_size)\n",
    "        output = self.dense(Y.reshape(-1, Y.shape[-1]))\n",
    "        return output, state\n",
    "    \n",
    "    def begin_state(self, *arg, **karg):\n",
    "        return self.rnn.begin_state(*arg, **karg)\n",
    "    \n",
    "def predict_rnn_gluon(prefix, num_chars, model, vocab_size, ctx, idx_to_char, char_to_idx):\n",
    "    state = model.begin_state(batch_size=1, ctx=ctx)\n",
    "    output = [char_to_idx[prefix[0]]]\n",
    "    for t in range(num_chars+len(prefix)-1):\n",
    "        X = nd.array([output[-1]], ctx=ctx).reshape((1,1))\n",
    "        (Y, state) = model(X, state)\n",
    "        if t<len(prefix)-1:\n",
    "            output.append(char_to_idx[prefix[t+1]])\n",
    "        else:\n",
    "            output.append(int(Y.argmax(axis=1).asscalar()))\n",
    "    return ''.join([idx_to_char[i] for i in output])\n",
    "    \n",
    "#     idx_to_char = list(set(corpus_chars))\n",
    "#     char_to_id = dict([char, i] for i, char in enumerate(idx_to_char))\n",
    "ctx = gb.try_gpu()\n",
    "model = RNNModel(rnn_layer, vocsize)\n",
    "model.initialize(force_reinit=True, ctx=ctx)\n",
    "predict_rnn_gluon('分开', 10, model, vocsize, ctx, idx_to_char, char_to_id)\n",
    "    "
   ]
  },
  {
   "cell_type": "code",
   "execution_count": null,
   "metadata": {},
   "outputs": [
    {
     "name": "stdout",
     "output_type": "stream",
     "text": [
      "epoch 0, perplexity 16928171.668516, time 24.69 sec\n",
      "-- 分开                                                  \n",
      "-- 不分开                                                  \n"
     ]
    }
   ],
   "source": [
    "from mxnet import gluon, init\n",
    "import numpy as np\n",
    "def train_and_predict_gluon(model, num_hiddens, vocab_size, ctx, corpus_indices,idx_to_char, char_to_id, \n",
    "                            num_epochs, num_steps, lr, clipping_theta, batch_size, pred_period, pred_len, prefixes):\n",
    "    loss = gloss.SoftmaxCrossEntropyLoss()\n",
    "    model.initialize(ctx=ctx, force_reinit=True, init=init.Normal(0.01))\n",
    "    trainer = gluon.Trainer(model.collect_params(), 'sgd', {'learning_rate':lr, 'momentum':0, 'wd':0})\n",
    "    \n",
    "    for epoch in range(num_epochs):\n",
    "        loss_sum, start = 0.0, time.time()\n",
    "        data_iter = data_iter_consective(corpus_indices, batch_size, num_steps, ctx)\n",
    "        state = model.begin_state(batch_size=batch_size, ctx=ctx)\n",
    "        for t, (index, X, Y) in enumerate(data_iter):\n",
    "            for s in state:\n",
    "                s.detach()\n",
    "            with autograd.record():\n",
    "                (output, state) = model(X, state)\n",
    "                y = Y.T.reshape((-1,))\n",
    "                l = loss(output, y).mean()\n",
    "            l.backward()\n",
    "            # 梯度裁剪\n",
    "            params = [p.data() for p in model.collect_params().values()]\n",
    "            grad_clip(params=params, theta=clipping_theta, ctx=ctx)\n",
    "            trainer.step(1) # 因为已经取过误差的平均值， 梯度不用再做平均\n",
    "            loss_sum += l.asscalar()\n",
    "#             print('one item time cost---{}, loss---{}'.format(time.time()-start, l))\n",
    "\n",
    "        if (epoch)%pred_period == 0:\n",
    "            print('epoch %d, perplexity %f, time %.2f sec'%(epoch, np.exp(loss_sum/(t+1)), time.time() - start))\n",
    "            for prefix in prefixes:\n",
    "                print('--', predict_rnn_gluon(prefix, pred_len, model, vocab_size, ctx, idx_to_char, char_to_id))\n",
    "    \n",
    "train_and_predict_gluon(model, num_hiddens, vocsize, ctx, corpus_indices,idx_to_char, char_to_id, \n",
    "                        num_epochs, num_steps, lr, clipping_theta, batch_size, pred_period, pred_len, prefixes)"
   ]
  },
  {
   "cell_type": "code",
   "execution_count": 40,
   "metadata": {},
   "outputs": [
    {
     "name": "stdout",
     "output_type": "stream",
     "text": [
      "0.01\n"
     ]
    }
   ],
   "source": [
    "print(clipping_theta)"
   ]
  },
  {
   "cell_type": "code",
   "execution_count": null,
   "metadata": {},
   "outputs": [],
   "source": []
  }
 ],
 "metadata": {
  "kernelspec": {
   "display_name": "Python 3",
   "language": "python",
   "name": "python3"
  },
  "language_info": {
   "codemirror_mode": {
    "name": "ipython",
    "version": 3
   },
   "file_extension": ".py",
   "mimetype": "text/x-python",
   "name": "python",
   "nbconvert_exporter": "python",
   "pygments_lexer": "ipython3",
   "version": "3.6.3"
  }
 },
 "nbformat": 4,
 "nbformat_minor": 2
}
